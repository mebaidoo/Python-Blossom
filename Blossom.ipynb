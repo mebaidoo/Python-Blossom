{
 "cells": [
  {
   "cell_type": "code",
   "execution_count": null,
   "id": "1f521f47",
   "metadata": {},
   "outputs": [],
   "source": [
    "#Creating a hashmap class that will be used to store information on flowers\n",
    "#Flowers as keys and their description as values\n",
    "from linked_list import Node, LinkedList\n",
    "from blossom_lib import flower_definitions\n",
    "\n",
    "class HashMap:\n",
    "  def __init__(self, size):\n",
    "    self.array_size = size\n",
    "    self.array = [LinkedList() for i in range(self.array_size)]\n",
    "  def hash(self, key):\n",
    "    return sum(key.encode())\n",
    "\n",
    "  def compress(self, hash_code):\n",
    "    return hash_code % self.array_size\n",
    "\n",
    "  def assign(self, key, value):\n",
    "    array_index = self.compress(self.hash(key))\n",
    "    payload = Node([key, value])\n",
    "    list_at_array = self.array[array_index]\n",
    "    for item in list_at_array:\n",
    "      if item[0] == key:\n",
    "        item[1] = value\n",
    "      list_at_array.insert(payload)\n",
    "\n",
    "  def retrieve(self, key):\n",
    "    array_index = self.compress(self.hash(key))\n",
    "    list_at_index = self.array[array_index]\n",
    "    for item in list_at_index:\n",
    "      if item[0] == key:\n",
    "        return item[1]\n",
    "      else:\n",
    "        return None\n",
    "      \n",
    "#Creating an instance of the class (Flowers mapped to their definitions)\n",
    "blossom = HashMap(len(flower_definitions))\n",
    "for flower in flower_definitions:\n",
    "  blossom.assign(flower[0], flower[1])\n",
    "print(blossom.retrieve(\"daisy\"))\n",
    "print(blossom.retrieve(\"rose\"))"
   ]
  }
 ],
 "metadata": {
  "kernelspec": {
   "display_name": "Python 3 (ipykernel)",
   "language": "python",
   "name": "python3"
  },
  "language_info": {
   "codemirror_mode": {
    "name": "ipython",
    "version": 3
   },
   "file_extension": ".py",
   "mimetype": "text/x-python",
   "name": "python",
   "nbconvert_exporter": "python",
   "pygments_lexer": "ipython3",
   "version": "3.9.7"
  }
 },
 "nbformat": 4,
 "nbformat_minor": 5
}
